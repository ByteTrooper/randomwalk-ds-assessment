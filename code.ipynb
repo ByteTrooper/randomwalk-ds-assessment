{
 "cells": [
  {
   "cell_type": "code",
   "execution_count": 13,
   "metadata": {},
   "outputs": [],
   "source": [
    "import pandas as pd\n",
    "import numpy as np\n",
    "import matplotlib.pyplot as plt"
   ]
  },
  {
   "cell_type": "code",
   "execution_count": 20,
   "metadata": {},
   "outputs": [],
   "source": [
    "df = pd.read_csv(\"./books.csv\")\n"
   ]
  },
  {
   "cell_type": "markdown",
   "metadata": {},
   "source": [
    "- Q1: How many rows and columns are there in books.csv dataset?"
   ]
  },
  {
   "cell_type": "code",
   "execution_count": 21,
   "metadata": {},
   "outputs": [
    {
     "name": "stdout",
     "output_type": "stream",
     "text": [
      "Number of rows: 399\n",
      "Number of columns: 24\n"
     ]
    }
   ],
   "source": [
    "print(\"Number of rows:\",df.shape[0])\n",
    "print(\"Number of columns:\",df.shape[1])"
   ]
  },
  {
   "cell_type": "markdown",
   "metadata": {},
   "source": [
    "- Q2: How many books do not have an original title?"
   ]
  },
  {
   "cell_type": "code",
   "execution_count": 8,
   "metadata": {},
   "outputs": [
    {
     "name": "stdout",
     "output_type": "stream",
     "text": [
      "Number of books without an original title: 36\n"
     ]
    }
   ],
   "source": [
    "# Check if 'original_title' is null in each row\n",
    "null_titles = df['original_title'].isnull() \n",
    "\n",
    "# Count the number of rows with True values (missing titles)\n",
    "missing_count = null_titles.sum()\n",
    "\n",
    "# Print the results\n",
    "print(f\"Number of books without an original title: {missing_count}\")"
   ]
  },
  {
   "cell_type": "markdown",
   "metadata": {},
   "source": [
    "- Q3: How many unique books are present in the dataset ? Evaluate based on the 'book_id' after removing null values in the original_title column."
   ]
  },
  {
   "cell_type": "code",
   "execution_count": 9,
   "metadata": {},
   "outputs": [
    {
     "name": "stdout",
     "output_type": "stream",
     "text": [
      "Number of unique books: 363\n"
     ]
    }
   ],
   "source": [
    "# Remove rows with null values in 'original_title'\n",
    "df_filtered = df.dropna(subset=['original_title'])\n",
    "\n",
    "# Count unique book_id values\n",
    "unique_books = df_filtered['book_id'].nunique()\n",
    "\n",
    "# Print the result\n",
    "print(f\"Number of unique books: {unique_books}\")"
   ]
  },
  {
   "cell_type": "markdown",
   "metadata": {},
   "source": [
    "- Q4: What is the average rating of all the books in the dataset based on ‘average_rating’?"
   ]
  },
  {
   "cell_type": "code",
   "execution_count": 10,
   "metadata": {},
   "outputs": [
    {
     "name": "stdout",
     "output_type": "stream",
     "text": [
      "Average rating of all books: 3.98\n"
     ]
    }
   ],
   "source": [
    "# Calculate the mean of the 'average_rating' column\n",
    "average_rating = df['average_rating'].mean()\n",
    "\n",
    "# Print the result\n",
    "print(f\"Average rating of all books: {average_rating:.2f}\")  # Round to 2 decimal places"
   ]
  },
  {
   "cell_type": "markdown",
   "metadata": {},
   "source": [
    "- Q5: Find the number of books published in the year ‘2000’ based on the ‘original_publication_year’."
   ]
  },
  {
   "cell_type": "code",
   "execution_count": 11,
   "metadata": {},
   "outputs": [
    {
     "name": "stdout",
     "output_type": "stream",
     "text": [
      "Number of books published in 2000: 8\n"
     ]
    }
   ],
   "source": [
    "# Filter books published in 2000\n",
    "df_filtered = df[df['original_publication_year'] == 2000]\n",
    "\n",
    "# Count the number of books\n",
    "num_books_2000 = df_filtered.shape[0]\n",
    "\n",
    "# Print the result\n",
    "print(f\"Number of books published in 2000: {num_books_2000}\")"
   ]
  },
  {
   "cell_type": "markdown",
   "metadata": {},
   "source": [
    "- Q6: Which book (title) has the maximum number of ratings based on ‘work_ratings_count’."
   ]
  },
  {
   "cell_type": "code",
   "execution_count": 12,
   "metadata": {},
   "outputs": [
    {
     "name": "stdout",
     "output_type": "stream",
     "text": [
      "Book with the most ratings: The Diary of a Young Girl\n"
     ]
    }
   ],
   "source": [
    "# Find the book with the maximum work_ratings_count\n",
    "top_rated_book = df[df['work_ratings_count'] == df['work_ratings_count'].max()]['title'].values[0]\n",
    "\n",
    "# Print the result\n",
    "print(f\"Book with the most ratings: {top_rated_book}\")"
   ]
  },
  {
   "cell_type": "markdown",
   "metadata": {},
   "source": [
    "- Q7: Bucket the average_rating of books into 11 buckets [0, 0.5, 1.0, 1.5, 2.0, 2.5, 3.0, 3.5, 4.0, 4.5, 5.0] with 0.5 decimal rounding (eg: average_rating 3.0 to 3.49 will fall in bucket 3.0). Plot bar graph to show total number of books in each rating bucket."
   ]
  },
  {
   "cell_type": "code",
   "execution_count": 19,
   "metadata": {},
   "outputs": [
    {
     "data": {
      "image/png": "[encoded data removed]",
      "text/plain": [
       "<Figure size 640x480 with 1 Axes>"
      ]
     },
     "metadata": {},
     "output_type": "display_data"
    }
   ],
   "source": [
    "r_bins=[0,0.5,1.0,1.5,2.0,2.5,3.0,3.5,4.0,4.5,5.0]\n",
    "df['rating_bucket']=pd.cut(df['average_rating'],bins=r_bins,right=False)\n",
    "rating_counts=df['rating_bucket'].value_counts().sort_index()\n",
    "\n",
    "plt.bar(rating_counts.index.astype(str),rating_counts.values,color='red')\n",
    "plt.xlabel(\"rating Buckets\")\n",
    "plt.ylabel(\"Number of Books\")\n",
    "plt.xticks(rotation='vertical')\n",
    "plt.title('Number of Books in Each Rating Bucket')\n",
    "plt.show()"
   ]
  }
 ],
 "metadata": {
  "kernelspec": {
   "display_name": "base",
   "language": "python",
   "name": "python3"
  },
  "language_info": {
   "codemirror_mode": {
    "name": "ipython",
    "version": 3
   },
   "file_extension": ".py",
   "mimetype": "text/x-python",
   "name": "python",
   "nbconvert_exporter": "python",
   "pygments_lexer": "ipython3",
   "version": "3.9.13"
  },
  "orig_nbformat": 4
 },
 "nbformat": 4,
 "nbformat_minor": 2
}
